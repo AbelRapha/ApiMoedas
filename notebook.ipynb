{
 "cells": [
  {
   "cell_type": "code",
   "execution_count": null,
   "metadata": {},
   "outputs": [],
   "source": [
    "from selenium import webdriver as web\n",
    "from bs4 import BeautifulSoup\n",
    "import time\n",
    "import pandas\n",
    "import json\n",
    "import unidecode"
   ]
  },
  {
   "cell_type": "code",
   "execution_count": null,
   "metadata": {},
   "outputs": [],
   "source": [
    "# Acessar a página de cotações\n",
    "option = web.ChromeOptions()\n",
    "#option.headless = True\n",
    "driver = web.Chrome(options=option)"
   ]
  },
  {
   "cell_type": "code",
   "execution_count": null,
   "metadata": {},
   "outputs": [],
   "source": [
    "driver.get(\"https://economia.awesomeapi.com.br/xml/available/uniq\")\n",
    "time.sleep(3)\n",
    "\n",
    "main_element = driver.find_element_by_class_name(\"pretty-print\")\n",
    "html = main_element.get_attribute('outerHTML')\n",
    "soup = BeautifulSoup(html, 'html.parser')\n",
    "\n",
    "\n"
   ]
  },
  {
   "cell_type": "code",
   "execution_count": null,
   "metadata": {},
   "outputs": [],
   "source": [
    "class_line = soup.find_all('div', attrs={'class':\"line\"})\n",
    "class_line"
   ]
  },
  {
   "cell_type": "markdown",
   "metadata": {},
   "source": [
    "## Pegando os códigos de cada moeda"
   ]
  },
  {
   "cell_type": "code",
   "execution_count": null,
   "metadata": {},
   "outputs": [],
   "source": [
    "moedas = []\n",
    "for line in class_line:\n",
    "    moedas.append(line.find(\"span\").get_text().strip(\"<>\"))"
   ]
  },
  {
   "cell_type": "code",
   "execution_count": null,
   "metadata": {},
   "outputs": [],
   "source": [
    "moedas.pop(0)\n",
    "moedas.pop(-1)"
   ]
  },
  {
   "cell_type": "markdown",
   "metadata": {},
   "source": [
    "## Pegando os países das cotações da moeda"
   ]
  },
  {
   "cell_type": "code",
   "execution_count": null,
   "metadata": {},
   "outputs": [],
   "source": [
    "paises = []\n",
    "for line in class_line:\n",
    "    if len(line.find_all('span'))>1:\n",
    "        paises.append(str(unidecode.unidecode(line.find_all(\"span\")[1].get_text())))\n",
    "    "
   ]
  },
  {
   "cell_type": "code",
   "execution_count": null,
   "metadata": {},
   "outputs": [],
   "source": [
    "paises.pop(0)"
   ]
  },
  {
   "cell_type": "code",
   "execution_count": null,
   "metadata": {},
   "outputs": [],
   "source": [
    "driver.get(\"https://economia.awesomeapi.com.br/xml/available\")\n",
    "time.sleep(5)\n",
    "\n",
    "main_element = driver.find_element_by_class_name(\"opened\")\n",
    "html = main_element.get_attribute('outerHTML')\n",
    "soup2 = BeautifulSoup(html, 'html.parser')\n",
    "\n",
    "driver.quit()"
   ]
  },
  {
   "cell_type": "markdown",
   "metadata": {},
   "source": [
    "## Pegando as combinações de moedas"
   ]
  },
  {
   "cell_type": "code",
   "execution_count": null,
   "metadata": {},
   "outputs": [],
   "source": [
    "class_line = soup2.find_all('div', attrs={'class':\"line\"})\n",
    "class_line"
   ]
  },
  {
   "cell_type": "code",
   "execution_count": null,
   "metadata": {},
   "outputs": [],
   "source": [
    "combinacoes = []\n",
    "for line in class_line:\n",
    "    combinacoes.append(line.find(\"span\").get_text().strip(\"<>\"))\n"
   ]
  },
  {
   "cell_type": "markdown",
   "metadata": {},
   "source": [
    "## Coletando as combinações por extenso"
   ]
  },
  {
   "cell_type": "code",
   "execution_count": null,
   "metadata": {},
   "outputs": [],
   "source": [
    "combinacoes_extenso = []\n",
    "for line in class_line:\n",
    "    if len(line.find_all('span'))>1:\n",
    "        combinacoes_extenso.append(str(unidecode.unidecode(line.find_all(\"span\")[1].get_text())))"
   ]
  },
  {
   "cell_type": "markdown",
   "metadata": {},
   "source": [
    "Criando um dicionário com todos os valores encontrados"
   ]
  },
  {
   "cell_type": "code",
   "execution_count": null,
   "metadata": {},
   "outputs": [],
   "source": [
    "df_moedas = pandas.DataFrame(data = {\"Cod_da_moeda\": moedas, \"Paises\": paises})"
   ]
  },
  {
   "cell_type": "code",
   "execution_count": null,
   "metadata": {},
   "outputs": [],
   "source": [
    "df_combinacoes = pandas.DataFrame(data={\"Combinacoes_de_conversao\":combinacoes, \"Combinacoes_por_extenso\": combinacoes_extenso})"
   ]
  },
  {
   "cell_type": "code",
   "execution_count": null,
   "metadata": {},
   "outputs": [],
   "source": [
    "moedas_dict = {}\n",
    "moedas_dict['Tipo da moeda'] = df_moedas.to_dict('records')\n",
    "\n",
    "conversao_dict = {}\n",
    "conversao_dict['Tipo de conversao'] = df_combinacoes.to_dict('records')"
   ]
  },
  {
   "cell_type": "code",
   "execution_count": null,
   "metadata": {},
   "outputs": [],
   "source": [
    "combinacoes_extenso"
   ]
  },
  {
   "cell_type": "markdown",
   "metadata": {},
   "source": [
    "## Convertendo em arquivo Json"
   ]
  },
  {
   "cell_type": "code",
   "execution_count": null,
   "metadata": {},
   "outputs": [],
   "source": [
    "js = json.dumps(moedas_dict)\n",
    "fp = open('moedas.json', 'w')\n",
    "fp.write(js)\n",
    "fp.close()"
   ]
  },
  {
   "cell_type": "code",
   "execution_count": null,
   "metadata": {},
   "outputs": [],
   "source": [
    "js2 = json.dumps(conversao_dict)\n",
    "fp = open('conversao.json', 'w')\n",
    "fp.write(js2)\n",
    "fp.close()"
   ]
  }
 ],
 "metadata": {
  "interpreter": {
   "hash": "af915a84e7cfee699cd6b229fc43889472dd1c85ced32533da7dcf7fa2351d32"
  },
  "kernelspec": {
   "display_name": "Python 3.8.10 64-bit ('ambienteVirtual': venv)",
   "language": "python",
   "name": "python3"
  },
  "language_info": {
   "codemirror_mode": {
    "name": "ipython",
    "version": 3
   },
   "file_extension": ".py",
   "mimetype": "text/x-python",
   "name": "python",
   "nbconvert_exporter": "python",
   "pygments_lexer": "ipython3",
   "version": "3.8.10"
  },
  "orig_nbformat": 4
 },
 "nbformat": 4,
 "nbformat_minor": 2
}
